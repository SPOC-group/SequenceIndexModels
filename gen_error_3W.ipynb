{
 "cells": [
  {
   "cell_type": "code",
   "execution_count": 2,
   "metadata": {},
   "outputs": [],
   "source": [
    "import numpy as np\n",
    "import matplotlib.pyplot as plt\n",
    "import pandas as pd"
   ]
  },
  {
   "cell_type": "code",
   "execution_count": 5,
   "metadata": {},
   "outputs": [],
   "source": [
    "data = pd.read_csv('data/BO_3w.csv')\n",
    "\n",
    "Q_11 = data['Q11']\n",
    "Q_22 = data['Q22']\n",
    "Q_33 = data['Q33']\n",
    "\n",
    "alphas_read = data['alpha']"
   ]
  },
  {
   "cell_type": "code",
   "execution_count": 9,
   "metadata": {},
   "outputs": [
    {
     "name": "stderr",
     "output_type": "stream",
     "text": [
      "  0%|          | 0/49 [00:00<?, ?it/s]"
     ]
    },
    {
     "name": "stderr",
     "output_type": "stream",
     "text": [
      "  2%|▏         | 1/49 [00:28<22:34, 28.21s/it]"
     ]
    },
    {
     "name": "stdout",
     "output_type": "stream",
     "text": [
      "alpha = 0.0: 0.5849756569798746\n"
     ]
    },
    {
     "name": "stderr",
     "output_type": "stream",
     "text": [
      "  4%|▍         | 2/49 [00:50<19:29, 24.89s/it]"
     ]
    },
    {
     "name": "stdout",
     "output_type": "stream",
     "text": [
      "alpha = 0.0625: 0.5843271788812764\n"
     ]
    },
    {
     "name": "stderr",
     "output_type": "stream",
     "text": [
      "  6%|▌         | 3/49 [01:13<18:19, 23.90s/it]"
     ]
    },
    {
     "name": "stdout",
     "output_type": "stream",
     "text": [
      "alpha = 0.125: 0.5834411704371758\n"
     ]
    },
    {
     "name": "stderr",
     "output_type": "stream",
     "text": [
      "  8%|▊         | 4/49 [01:36<17:31, 23.36s/it]"
     ]
    },
    {
     "name": "stdout",
     "output_type": "stream",
     "text": [
      "alpha = 0.1875: 0.5841458338923836\n"
     ]
    },
    {
     "name": "stderr",
     "output_type": "stream",
     "text": [
      " 10%|█         | 5/49 [01:59<17:08, 23.37s/it]"
     ]
    },
    {
     "name": "stdout",
     "output_type": "stream",
     "text": [
      "alpha = 0.25: 0.5784702115464376\n"
     ]
    },
    {
     "name": "stderr",
     "output_type": "stream",
     "text": [
      " 12%|█▏        | 6/49 [02:22<16:36, 23.17s/it]"
     ]
    },
    {
     "name": "stdout",
     "output_type": "stream",
     "text": [
      "alpha = 0.3125: 0.5874128951216233\n"
     ]
    },
    {
     "name": "stderr",
     "output_type": "stream",
     "text": [
      " 14%|█▍        | 7/49 [02:44<16:03, 22.95s/it]"
     ]
    },
    {
     "name": "stdout",
     "output_type": "stream",
     "text": [
      "alpha = 0.375: 0.5908169279305303\n"
     ]
    },
    {
     "name": "stderr",
     "output_type": "stream",
     "text": [
      " 16%|█▋        | 8/49 [03:07<15:35, 22.83s/it]"
     ]
    },
    {
     "name": "stdout",
     "output_type": "stream",
     "text": [
      "alpha = 0.4375: 0.5549054593102759\n"
     ]
    },
    {
     "name": "stderr",
     "output_type": "stream",
     "text": [
      " 18%|█▊        | 9/49 [03:29<15:09, 22.73s/it]"
     ]
    },
    {
     "name": "stdout",
     "output_type": "stream",
     "text": [
      "alpha = 0.5: 0.4725599407910743\n"
     ]
    },
    {
     "name": "stderr",
     "output_type": "stream",
     "text": [
      " 20%|██        | 10/49 [03:52<14:49, 22.81s/it]"
     ]
    },
    {
     "name": "stdout",
     "output_type": "stream",
     "text": [
      "alpha = 0.5625: 0.3770265772449534\n"
     ]
    },
    {
     "name": "stderr",
     "output_type": "stream",
     "text": [
      " 22%|██▏       | 11/49 [04:15<14:25, 22.76s/it]"
     ]
    },
    {
     "name": "stdout",
     "output_type": "stream",
     "text": [
      "alpha = 0.625: 0.3001588075886262\n"
     ]
    },
    {
     "name": "stderr",
     "output_type": "stream",
     "text": [
      " 24%|██▍       | 12/49 [04:38<14:02, 22.76s/it]"
     ]
    },
    {
     "name": "stdout",
     "output_type": "stream",
     "text": [
      "alpha = 0.6875: 0.2404559458460032\n"
     ]
    },
    {
     "name": "stderr",
     "output_type": "stream",
     "text": [
      " 27%|██▋       | 13/49 [05:01<13:40, 22.79s/it]"
     ]
    },
    {
     "name": "stdout",
     "output_type": "stream",
     "text": [
      "alpha = 0.75: 0.2054596889922188\n"
     ]
    },
    {
     "name": "stderr",
     "output_type": "stream",
     "text": [
      " 29%|██▊       | 14/49 [05:23<13:16, 22.77s/it]"
     ]
    },
    {
     "name": "stdout",
     "output_type": "stream",
     "text": [
      "alpha = 0.8125: 0.1840042022135637\n"
     ]
    },
    {
     "name": "stderr",
     "output_type": "stream",
     "text": [
      " 31%|███       | 15/49 [05:46<12:54, 22.77s/it]"
     ]
    },
    {
     "name": "stdout",
     "output_type": "stream",
     "text": [
      "alpha = 0.875: 0.1628542563306462\n"
     ]
    },
    {
     "name": "stderr",
     "output_type": "stream",
     "text": [
      " 33%|███▎      | 16/49 [06:10<12:46, 23.21s/it]"
     ]
    },
    {
     "name": "stdout",
     "output_type": "stream",
     "text": [
      "alpha = 0.9375: 0.15204252475218893\n"
     ]
    },
    {
     "name": "stderr",
     "output_type": "stream",
     "text": [
      " 35%|███▍      | 17/49 [06:33<12:19, 23.11s/it]"
     ]
    },
    {
     "name": "stdout",
     "output_type": "stream",
     "text": [
      "alpha = 1.0: 0.14370831268090817\n"
     ]
    },
    {
     "name": "stderr",
     "output_type": "stream",
     "text": [
      " 37%|███▋      | 18/49 [06:56<11:53, 23.03s/it]"
     ]
    },
    {
     "name": "stdout",
     "output_type": "stream",
     "text": [
      "alpha = 1.0625: 0.1361410805308254\n"
     ]
    },
    {
     "name": "stderr",
     "output_type": "stream",
     "text": [
      " 39%|███▉      | 19/49 [07:19<11:28, 22.96s/it]"
     ]
    },
    {
     "name": "stdout",
     "output_type": "stream",
     "text": [
      "alpha = 1.125: 0.12999479499456443\n"
     ]
    },
    {
     "name": "stderr",
     "output_type": "stream",
     "text": [
      " 41%|████      | 20/49 [07:42<11:06, 22.97s/it]"
     ]
    },
    {
     "name": "stdout",
     "output_type": "stream",
     "text": [
      "alpha = 1.1875: 0.12128936048124529\n"
     ]
    },
    {
     "name": "stderr",
     "output_type": "stream",
     "text": [
      " 43%|████▎     | 21/49 [08:05<10:42, 22.94s/it]"
     ]
    },
    {
     "name": "stdout",
     "output_type": "stream",
     "text": [
      "alpha = 1.25: 0.11667110363062329\n"
     ]
    },
    {
     "name": "stderr",
     "output_type": "stream",
     "text": [
      " 45%|████▍     | 22/49 [08:27<10:17, 22.88s/it]"
     ]
    },
    {
     "name": "stdout",
     "output_type": "stream",
     "text": [
      "alpha = 1.3125: 0.11161167314817247\n"
     ]
    },
    {
     "name": "stderr",
     "output_type": "stream",
     "text": [
      " 47%|████▋     | 23/49 [08:50<09:55, 22.91s/it]"
     ]
    },
    {
     "name": "stdout",
     "output_type": "stream",
     "text": [
      "alpha = 1.375: 0.1061489926757768\n"
     ]
    },
    {
     "name": "stderr",
     "output_type": "stream",
     "text": [
      " 49%|████▉     | 24/49 [09:13<09:32, 22.89s/it]"
     ]
    },
    {
     "name": "stdout",
     "output_type": "stream",
     "text": [
      "alpha = 1.4375: 0.10057491332648912\n"
     ]
    },
    {
     "name": "stderr",
     "output_type": "stream",
     "text": [
      " 51%|█████     | 25/49 [09:38<09:21, 23.38s/it]"
     ]
    },
    {
     "name": "stdout",
     "output_type": "stream",
     "text": [
      "alpha = 1.5: 0.0977731757365553\n"
     ]
    },
    {
     "name": "stderr",
     "output_type": "stream",
     "text": [
      " 53%|█████▎    | 26/49 [10:00<08:51, 23.13s/it]"
     ]
    },
    {
     "name": "stdout",
     "output_type": "stream",
     "text": [
      "alpha = 1.5625: 0.09551362671395895\n"
     ]
    },
    {
     "name": "stderr",
     "output_type": "stream",
     "text": [
      " 55%|█████▌    | 27/49 [10:23<08:23, 22.87s/it]"
     ]
    },
    {
     "name": "stdout",
     "output_type": "stream",
     "text": [
      "alpha = 1.625: 0.09371748702223848\n"
     ]
    },
    {
     "name": "stderr",
     "output_type": "stream",
     "text": [
      " 57%|█████▋    | 28/49 [10:45<07:57, 22.72s/it]"
     ]
    },
    {
     "name": "stdout",
     "output_type": "stream",
     "text": [
      "alpha = 1.6875: 0.090564976108122\n"
     ]
    },
    {
     "name": "stderr",
     "output_type": "stream",
     "text": [
      " 59%|█████▉    | 29/49 [11:08<07:34, 22.71s/it]"
     ]
    },
    {
     "name": "stdout",
     "output_type": "stream",
     "text": [
      "alpha = 1.75: 0.0891716449742239\n"
     ]
    },
    {
     "name": "stderr",
     "output_type": "stream",
     "text": [
      " 61%|██████    | 30/49 [11:30<07:09, 22.61s/it]"
     ]
    },
    {
     "name": "stdout",
     "output_type": "stream",
     "text": [
      "alpha = 1.8125: 0.08665048212259818\n"
     ]
    },
    {
     "name": "stderr",
     "output_type": "stream",
     "text": [
      " 63%|██████▎   | 31/49 [11:52<06:46, 22.56s/it]"
     ]
    },
    {
     "name": "stdout",
     "output_type": "stream",
     "text": [
      "alpha = 1.875: 0.08643279862713567\n"
     ]
    },
    {
     "name": "stderr",
     "output_type": "stream",
     "text": [
      " 65%|██████▌   | 32/49 [12:16<06:27, 22.79s/it]"
     ]
    },
    {
     "name": "stdout",
     "output_type": "stream",
     "text": [
      "alpha = 1.9375: 0.08432369870237369\n"
     ]
    },
    {
     "name": "stderr",
     "output_type": "stream",
     "text": [
      " 67%|██████▋   | 33/49 [12:42<06:20, 23.77s/it]"
     ]
    },
    {
     "name": "stdout",
     "output_type": "stream",
     "text": [
      "alpha = 2.0: 0.08330255198251221\n"
     ]
    },
    {
     "name": "stderr",
     "output_type": "stream",
     "text": [
      " 69%|██████▉   | 34/49 [13:07<06:02, 24.13s/it]"
     ]
    },
    {
     "name": "stdout",
     "output_type": "stream",
     "text": [
      "alpha = 2.0625: 0.08331761630331404\n"
     ]
    },
    {
     "name": "stderr",
     "output_type": "stream",
     "text": [
      " 71%|███████▏  | 35/49 [13:32<05:40, 24.35s/it]"
     ]
    },
    {
     "name": "stdout",
     "output_type": "stream",
     "text": [
      "alpha = 2.125: 0.08226766152639862\n"
     ]
    },
    {
     "name": "stderr",
     "output_type": "stream",
     "text": [
      " 73%|███████▎  | 36/49 [13:54<05:09, 23.83s/it]"
     ]
    },
    {
     "name": "stdout",
     "output_type": "stream",
     "text": [
      "alpha = 2.1875: 0.08216093166618896\n"
     ]
    },
    {
     "name": "stderr",
     "output_type": "stream",
     "text": [
      " 76%|███████▌  | 37/49 [14:17<04:41, 23.45s/it]"
     ]
    },
    {
     "name": "stdout",
     "output_type": "stream",
     "text": [
      "alpha = 2.25: 0.08055844264457905\n"
     ]
    },
    {
     "name": "stderr",
     "output_type": "stream",
     "text": [
      " 78%|███████▊  | 38/49 [14:39<04:14, 23.15s/it]"
     ]
    },
    {
     "name": "stdout",
     "output_type": "stream",
     "text": [
      "alpha = 2.3125: 0.07949326612151697\n"
     ]
    },
    {
     "name": "stderr",
     "output_type": "stream",
     "text": [
      " 80%|███████▉  | 39/49 [15:04<03:55, 23.54s/it]"
     ]
    },
    {
     "name": "stdout",
     "output_type": "stream",
     "text": [
      "alpha = 2.375: 0.07809164174904266\n"
     ]
    },
    {
     "name": "stderr",
     "output_type": "stream",
     "text": [
      " 82%|████████▏ | 40/49 [15:30<03:40, 24.49s/it]"
     ]
    },
    {
     "name": "stdout",
     "output_type": "stream",
     "text": [
      "alpha = 2.4375: 0.0782956170581082\n"
     ]
    },
    {
     "name": "stderr",
     "output_type": "stream",
     "text": [
      " 84%|████████▎ | 41/49 [15:57<03:20, 25.07s/it]"
     ]
    },
    {
     "name": "stdout",
     "output_type": "stream",
     "text": [
      "alpha = 2.5: 0.07890963145747046\n"
     ]
    },
    {
     "name": "stderr",
     "output_type": "stream",
     "text": [
      " 86%|████████▌ | 42/49 [16:21<02:54, 24.92s/it]"
     ]
    },
    {
     "name": "stdout",
     "output_type": "stream",
     "text": [
      "alpha = 2.5625: 0.07772346115684943\n"
     ]
    },
    {
     "name": "stderr",
     "output_type": "stream",
     "text": [
      " 88%|████████▊ | 43/49 [16:44<02:25, 24.28s/it]"
     ]
    },
    {
     "name": "stdout",
     "output_type": "stream",
     "text": [
      "alpha = 2.625: 0.07600163678117194\n"
     ]
    },
    {
     "name": "stderr",
     "output_type": "stream",
     "text": [
      " 90%|████████▉ | 44/49 [17:07<01:58, 23.78s/it]"
     ]
    },
    {
     "name": "stdout",
     "output_type": "stream",
     "text": [
      "alpha = 2.6875: 0.07585326177863456\n"
     ]
    },
    {
     "name": "stderr",
     "output_type": "stream",
     "text": [
      " 92%|█████████▏| 45/49 [17:30<01:34, 23.59s/it]"
     ]
    },
    {
     "name": "stdout",
     "output_type": "stream",
     "text": [
      "alpha = 2.75: 0.076657021455768\n"
     ]
    },
    {
     "name": "stderr",
     "output_type": "stream",
     "text": [
      " 94%|█████████▍| 46/49 [17:53<01:10, 23.34s/it]"
     ]
    },
    {
     "name": "stdout",
     "output_type": "stream",
     "text": [
      "alpha = 2.8125: 0.07612236335551027\n"
     ]
    },
    {
     "name": "stderr",
     "output_type": "stream",
     "text": [
      " 96%|█████████▌| 47/49 [18:15<00:46, 23.09s/it]"
     ]
    },
    {
     "name": "stdout",
     "output_type": "stream",
     "text": [
      "alpha = 2.875: 0.07511244319613518\n"
     ]
    },
    {
     "name": "stderr",
     "output_type": "stream",
     "text": [
      " 98%|█████████▊| 48/49 [18:38<00:22, 22.97s/it]"
     ]
    },
    {
     "name": "stdout",
     "output_type": "stream",
     "text": [
      "alpha = 2.9375: 0.074726974485367\n"
     ]
    },
    {
     "name": "stderr",
     "output_type": "stream",
     "text": [
      "100%|██████████| 49/49 [19:01<00:00, 23.29s/it]"
     ]
    },
    {
     "name": "stdout",
     "output_type": "stream",
     "text": [
      "alpha = 3.0: 0.07403265889743416\n"
     ]
    },
    {
     "name": "stderr",
     "output_type": "stream",
     "text": [
      "\n"
     ]
    }
   ],
   "source": [
    "from numba import njit\n",
    "from tqdm import tqdm\n",
    "from scipy.linalg import sqrtm\n",
    "\n",
    "\n",
    "@njit\n",
    "def softmax(x, beta=1):\n",
    "    max_x = np.array([np.max(row) for row in x])\n",
    "\n",
    "    x = x - max_x.reshape(-1,1)\n",
    "    P = np.exp(beta*x)    \n",
    "    return (P.T / np.sum(P,1)).T\n",
    "\n",
    "\n",
    "@njit\n",
    "def A(z1):\n",
    "    return softmax(np.outer(z1,z1)) + np.eye(len(z1))\n",
    "\n",
    "\n",
    "@njit\n",
    "def B(z1, z2):\n",
    "    A1 = A(z1)\n",
    "    A2 = A(A1 @ z2)\n",
    "    return A2 @ A1\n",
    "\n",
    "\n",
    "@njit\n",
    "def g(z1, z2, z3):\n",
    "    B1 = B(z1, z2) @ z3\n",
    "    return softmax(np.outer(B1, B1))\n",
    "\n",
    "\n",
    "samples = 100000\n",
    "gen_error_list = np.zeros(len(Q_11))\n",
    "\n",
    "for i in tqdm(range(len(Q_11))):\n",
    "    Q = np.array([[Q_11[i], 0, 0], [0, Q_22[i], 0], [0, 0, Q_33[i]]])\n",
    "    gen_error = 0\n",
    "    for _ in range(samples):\n",
    "\n",
    "        Z = np.random.normal(0,1, (3,2))\n",
    "        U = np.random.normal(0,1, (3,2))\n",
    "\n",
    "        sqrt_Q = sqrtm(Q)\n",
    "        sqrt_one_minus_Q = sqrtm(np.eye(Q.shape[0]) - Q)\n",
    "        omega = sqrt_Q @ Z\n",
    "\n",
    "        Z_true = sqrt_Q@Z + sqrt_one_minus_Q@U\n",
    "        y_teacher = g(Z_true[0], Z_true[1], Z_true[2])\n",
    "        y_student = g(omega[0], omega[1], omega[2])\n",
    "\n",
    "        loss = np.linalg.norm(y_teacher - y_student)**2\n",
    "        gen_error += loss\n",
    "\n",
    "    gen_error_list[i] = gen_error / samples\n",
    "\n",
    "    print(f\"alpha = {alphas_read[i]}: {gen_error_list[i]}\")\n"
   ]
  },
  {
   "cell_type": "code",
   "execution_count": null,
   "metadata": {},
   "outputs": [],
   "source": []
  },
  {
   "cell_type": "code",
   "execution_count": 10,
   "metadata": {},
   "outputs": [
    {
     "name": "stdout",
     "output_type": "stream",
     "text": [
      "0.0,0.5849756569798746\n",
      "0.0625,0.5843271788812764\n",
      "0.125,0.5834411704371758\n",
      "0.1875,0.5841458338923836\n",
      "0.25,0.5784702115464376\n",
      "0.3125,0.5874128951216233\n",
      "0.375,0.5908169279305303\n",
      "0.4375,0.5549054593102759\n",
      "0.5,0.4725599407910743\n",
      "0.5625,0.3770265772449534\n",
      "0.625,0.3001588075886262\n",
      "0.6875,0.2404559458460032\n",
      "0.75,0.2054596889922188\n",
      "0.8125,0.1840042022135637\n",
      "0.875,0.1628542563306462\n",
      "0.9375,0.15204252475218893\n",
      "1.0,0.14370831268090817\n",
      "1.0625,0.1361410805308254\n",
      "1.125,0.12999479499456443\n",
      "1.1875,0.12128936048124529\n",
      "1.25,0.11667110363062329\n",
      "1.3125,0.11161167314817247\n",
      "1.375,0.1061489926757768\n",
      "1.4375,0.10057491332648912\n",
      "1.5,0.0977731757365553\n",
      "1.5625,0.09551362671395895\n",
      "1.625,0.09371748702223848\n",
      "1.6875,0.090564976108122\n",
      "1.75,0.0891716449742239\n",
      "1.8125,0.08665048212259818\n",
      "1.875,0.08643279862713567\n",
      "1.9375,0.08432369870237369\n",
      "2.0,0.08330255198251221\n",
      "2.0625,0.08331761630331404\n",
      "2.125,0.08226766152639862\n",
      "2.1875,0.08216093166618896\n",
      "2.25,0.08055844264457905\n",
      "2.3125,0.07949326612151697\n",
      "2.375,0.07809164174904266\n",
      "2.4375,0.0782956170581082\n",
      "2.5,0.07890963145747046\n",
      "2.5625,0.07772346115684943\n",
      "2.625,0.07600163678117194\n",
      "2.6875,0.07585326177863456\n",
      "2.75,0.076657021455768\n",
      "2.8125,0.07612236335551027\n",
      "2.875,0.07511244319613518\n",
      "2.9375,0.074726974485367\n",
      "3.0,0.07403265889743416\n"
     ]
    },
    {
     "data": {
      "text/plain": [
       "1"
      ]
     },
     "execution_count": 10,
     "metadata": {},
     "output_type": "execute_result"
    }
   ],
   "source": [
    "[print(f\"{alphas_read[i]},{gen_error_list[i]}\") for i in range(len(alphas_read))]\n",
    "\n",
    "1"
   ]
  },
  {
   "cell_type": "code",
   "execution_count": null,
   "metadata": {},
   "outputs": [],
   "source": []
  },
  {
   "cell_type": "code",
   "execution_count": 11,
   "metadata": {},
   "outputs": [
    {
     "name": "stderr",
     "output_type": "stream",
     "text": [
      "  2%|▏         | 1/49 [00:28<23:00, 28.77s/it]"
     ]
    },
    {
     "name": "stdout",
     "output_type": "stream",
     "text": [
      "alpha = 0.0: 0.5841452984069229\n"
     ]
    },
    {
     "name": "stderr",
     "output_type": "stream",
     "text": [
      "  4%|▍         | 2/49 [00:52<20:07, 25.70s/it]"
     ]
    },
    {
     "name": "stdout",
     "output_type": "stream",
     "text": [
      "alpha = 0.0625: 0.5840106244987391\n"
     ]
    },
    {
     "name": "stderr",
     "output_type": "stream",
     "text": [
      "  6%|▌         | 3/49 [01:14<18:33, 24.20s/it]"
     ]
    },
    {
     "name": "stdout",
     "output_type": "stream",
     "text": [
      "alpha = 0.125: 0.5833305157070101\n"
     ]
    },
    {
     "name": "stderr",
     "output_type": "stream",
     "text": [
      "  8%|▊         | 4/49 [01:36<17:33, 23.40s/it]"
     ]
    },
    {
     "name": "stdout",
     "output_type": "stream",
     "text": [
      "alpha = 0.1875: 0.5851799457682222\n"
     ]
    },
    {
     "name": "stderr",
     "output_type": "stream",
     "text": [
      " 10%|█         | 5/49 [01:59<16:52, 23.00s/it]"
     ]
    },
    {
     "name": "stdout",
     "output_type": "stream",
     "text": [
      "alpha = 0.25: 0.5794285750184182\n"
     ]
    },
    {
     "name": "stderr",
     "output_type": "stream",
     "text": [
      " 12%|█▏        | 6/49 [02:21<16:20, 22.80s/it]"
     ]
    },
    {
     "name": "stdout",
     "output_type": "stream",
     "text": [
      "alpha = 0.3125: 0.5860315865001978\n"
     ]
    },
    {
     "name": "stderr",
     "output_type": "stream",
     "text": [
      " 14%|█▍        | 7/49 [02:44<15:52, 22.67s/it]"
     ]
    },
    {
     "name": "stdout",
     "output_type": "stream",
     "text": [
      "alpha = 0.375: 0.5854370582668691\n"
     ]
    },
    {
     "name": "stderr",
     "output_type": "stream",
     "text": [
      " 16%|█▋        | 8/49 [03:06<15:25, 22.58s/it]"
     ]
    },
    {
     "name": "stdout",
     "output_type": "stream",
     "text": [
      "alpha = 0.4375: 0.5488822019991927\n"
     ]
    },
    {
     "name": "stderr",
     "output_type": "stream",
     "text": [
      " 18%|█▊        | 9/49 [03:29<15:03, 22.60s/it]"
     ]
    },
    {
     "name": "stdout",
     "output_type": "stream",
     "text": [
      "alpha = 0.5: 0.47451091815640634\n"
     ]
    },
    {
     "name": "stderr",
     "output_type": "stream",
     "text": [
      " 20%|██        | 10/49 [03:51<14:36, 22.48s/it]"
     ]
    },
    {
     "name": "stdout",
     "output_type": "stream",
     "text": [
      "alpha = 0.5625: 0.38075774675651775\n"
     ]
    },
    {
     "name": "stderr",
     "output_type": "stream",
     "text": [
      " 22%|██▏       | 11/49 [04:13<14:14, 22.48s/it]"
     ]
    },
    {
     "name": "stdout",
     "output_type": "stream",
     "text": [
      "alpha = 0.625: 0.30137274190244573\n"
     ]
    },
    {
     "name": "stderr",
     "output_type": "stream",
     "text": [
      " 24%|██▍       | 12/49 [04:36<13:53, 22.53s/it]"
     ]
    },
    {
     "name": "stdout",
     "output_type": "stream",
     "text": [
      "alpha = 0.6875: 0.2411445893582055\n"
     ]
    },
    {
     "name": "stderr",
     "output_type": "stream",
     "text": [
      " 27%|██▋       | 13/49 [04:59<13:32, 22.56s/it]"
     ]
    },
    {
     "name": "stdout",
     "output_type": "stream",
     "text": [
      "alpha = 0.75: 0.20552106278741253\n"
     ]
    },
    {
     "name": "stderr",
     "output_type": "stream",
     "text": [
      " 29%|██▊       | 14/49 [05:26<14:06, 24.19s/it]"
     ]
    },
    {
     "name": "stdout",
     "output_type": "stream",
     "text": [
      "alpha = 0.8125: 0.18110879807634797\n"
     ]
    },
    {
     "name": "stderr",
     "output_type": "stream",
     "text": [
      " 31%|███       | 15/49 [05:52<13:55, 24.58s/it]"
     ]
    },
    {
     "name": "stdout",
     "output_type": "stream",
     "text": [
      "alpha = 0.875: 0.16365309393769106\n"
     ]
    },
    {
     "name": "stderr",
     "output_type": "stream",
     "text": [
      " 33%|███▎      | 16/49 [06:17<13:34, 24.69s/it]"
     ]
    },
    {
     "name": "stdout",
     "output_type": "stream",
     "text": [
      "alpha = 0.9375: 0.15398749486824034\n"
     ]
    },
    {
     "name": "stderr",
     "output_type": "stream",
     "text": [
      " 35%|███▍      | 17/49 [06:39<12:45, 23.93s/it]"
     ]
    },
    {
     "name": "stdout",
     "output_type": "stream",
     "text": [
      "alpha = 1.0: 0.14440068405413048\n"
     ]
    },
    {
     "name": "stderr",
     "output_type": "stream",
     "text": [
      " 37%|███▋      | 18/49 [07:00<11:55, 23.09s/it]"
     ]
    },
    {
     "name": "stdout",
     "output_type": "stream",
     "text": [
      "alpha = 1.0625: 0.13874995950267413\n"
     ]
    },
    {
     "name": "stderr",
     "output_type": "stream",
     "text": [
      " 39%|███▉      | 19/49 [07:21<11:14, 22.47s/it]"
     ]
    },
    {
     "name": "stdout",
     "output_type": "stream",
     "text": [
      "alpha = 1.125: 0.13389340602128216\n"
     ]
    },
    {
     "name": "stderr",
     "output_type": "stream",
     "text": [
      " 41%|████      | 20/49 [07:42<10:36, 21.96s/it]"
     ]
    },
    {
     "name": "stdout",
     "output_type": "stream",
     "text": [
      "alpha = 1.1875: 0.1317563043301489\n"
     ]
    },
    {
     "name": "stderr",
     "output_type": "stream",
     "text": [
      " 43%|████▎     | 21/49 [08:04<10:15, 21.97s/it]"
     ]
    },
    {
     "name": "stdout",
     "output_type": "stream",
     "text": [
      "alpha = 1.25: 0.12906308710810135\n"
     ]
    },
    {
     "name": "stderr",
     "output_type": "stream",
     "text": [
      " 45%|████▍     | 22/49 [08:27<10:00, 22.23s/it]"
     ]
    },
    {
     "name": "stdout",
     "output_type": "stream",
     "text": [
      "alpha = 1.3125: 0.12575084139374487\n"
     ]
    },
    {
     "name": "stderr",
     "output_type": "stream",
     "text": [
      " 47%|████▋     | 23/49 [08:52<09:56, 22.96s/it]"
     ]
    },
    {
     "name": "stdout",
     "output_type": "stream",
     "text": [
      "alpha = 1.375: 0.12323934912571877\n"
     ]
    },
    {
     "name": "stderr",
     "output_type": "stream",
     "text": [
      " 49%|████▉     | 24/49 [09:15<09:39, 23.19s/it]"
     ]
    },
    {
     "name": "stdout",
     "output_type": "stream",
     "text": [
      "alpha = 1.4375: 0.12121165810981263\n"
     ]
    },
    {
     "name": "stderr",
     "output_type": "stream",
     "text": [
      " 51%|█████     | 25/49 [09:41<09:32, 23.84s/it]"
     ]
    },
    {
     "name": "stdout",
     "output_type": "stream",
     "text": [
      "alpha = 1.5: 0.12074590135326058\n"
     ]
    },
    {
     "name": "stderr",
     "output_type": "stream",
     "text": [
      " 53%|█████▎    | 26/49 [10:07<09:22, 24.47s/it]"
     ]
    },
    {
     "name": "stdout",
     "output_type": "stream",
     "text": [
      "alpha = 1.5625: 0.11696317449049205\n"
     ]
    },
    {
     "name": "stderr",
     "output_type": "stream",
     "text": [
      " 55%|█████▌    | 27/49 [10:33<09:09, 24.99s/it]"
     ]
    },
    {
     "name": "stdout",
     "output_type": "stream",
     "text": [
      "alpha = 1.625: 0.1174693109362527\n"
     ]
    },
    {
     "name": "stderr",
     "output_type": "stream",
     "text": [
      " 57%|█████▋    | 28/49 [10:59<08:55, 25.50s/it]"
     ]
    },
    {
     "name": "stdout",
     "output_type": "stream",
     "text": [
      "alpha = 1.6875: 0.11790824450203112\n"
     ]
    },
    {
     "name": "stderr",
     "output_type": "stream",
     "text": [
      " 59%|█████▉    | 29/49 [11:26<08:35, 25.75s/it]"
     ]
    },
    {
     "name": "stdout",
     "output_type": "stream",
     "text": [
      "alpha = 1.75: 0.1164068270837184\n"
     ]
    },
    {
     "name": "stderr",
     "output_type": "stream",
     "text": [
      " 61%|██████    | 30/49 [11:52<08:10, 25.80s/it]"
     ]
    },
    {
     "name": "stdout",
     "output_type": "stream",
     "text": [
      "alpha = 1.8125: 0.11684210555907215\n"
     ]
    },
    {
     "name": "stderr",
     "output_type": "stream",
     "text": [
      " 63%|██████▎   | 31/49 [12:17<07:44, 25.78s/it]"
     ]
    },
    {
     "name": "stdout",
     "output_type": "stream",
     "text": [
      "alpha = 1.875: 0.1156201537241975\n"
     ]
    },
    {
     "name": "stderr",
     "output_type": "stream",
     "text": [
      " 65%|██████▌   | 32/49 [12:40<07:03, 24.92s/it]"
     ]
    },
    {
     "name": "stdout",
     "output_type": "stream",
     "text": [
      "alpha = 1.9375: 0.11538462882535137\n"
     ]
    },
    {
     "name": "stderr",
     "output_type": "stream",
     "text": [
      " 67%|██████▋   | 33/49 [13:03<06:27, 24.25s/it]"
     ]
    },
    {
     "name": "stdout",
     "output_type": "stream",
     "text": [
      "alpha = 2.0: 0.11638639669674067\n"
     ]
    },
    {
     "name": "stderr",
     "output_type": "stream",
     "text": [
      " 69%|██████▉   | 34/49 [13:26<05:59, 23.95s/it]"
     ]
    },
    {
     "name": "stdout",
     "output_type": "stream",
     "text": [
      "alpha = 2.0625: 0.11410085331050623\n"
     ]
    },
    {
     "name": "stderr",
     "output_type": "stream",
     "text": [
      " 71%|███████▏  | 35/49 [13:53<05:48, 24.91s/it]"
     ]
    },
    {
     "name": "stdout",
     "output_type": "stream",
     "text": [
      "alpha = 2.125: 0.11496516691860562\n"
     ]
    },
    {
     "name": "stderr",
     "output_type": "stream",
     "text": [
      " 73%|███████▎  | 36/49 [14:17<05:17, 24.40s/it]"
     ]
    },
    {
     "name": "stdout",
     "output_type": "stream",
     "text": [
      "alpha = 2.1875: 0.11354679413501043\n"
     ]
    },
    {
     "name": "stderr",
     "output_type": "stream",
     "text": [
      " 76%|███████▌  | 37/49 [14:39<04:44, 23.69s/it]"
     ]
    },
    {
     "name": "stdout",
     "output_type": "stream",
     "text": [
      "alpha = 2.25: 0.11500764532288894\n"
     ]
    },
    {
     "name": "stderr",
     "output_type": "stream",
     "text": [
      " 78%|███████▊  | 38/49 [15:04<04:25, 24.10s/it]"
     ]
    },
    {
     "name": "stdout",
     "output_type": "stream",
     "text": [
      "alpha = 2.3125: 0.11302030542398575\n"
     ]
    },
    {
     "name": "stderr",
     "output_type": "stream",
     "text": [
      " 80%|███████▉  | 39/49 [15:28<04:02, 24.26s/it]"
     ]
    },
    {
     "name": "stdout",
     "output_type": "stream",
     "text": [
      "alpha = 2.375: 0.11180073747927649\n"
     ]
    },
    {
     "name": "stderr",
     "output_type": "stream",
     "text": [
      " 82%|████████▏ | 40/49 [15:52<03:37, 24.12s/it]"
     ]
    },
    {
     "name": "stdout",
     "output_type": "stream",
     "text": [
      "alpha = 2.4375: 0.11446839035113202\n"
     ]
    },
    {
     "name": "stderr",
     "output_type": "stream",
     "text": [
      " 84%|████████▎ | 41/49 [16:16<03:12, 24.00s/it]"
     ]
    },
    {
     "name": "stdout",
     "output_type": "stream",
     "text": [
      "alpha = 2.5: 0.11399143546466184\n"
     ]
    },
    {
     "name": "stderr",
     "output_type": "stream",
     "text": [
      " 86%|████████▌ | 42/49 [16:38<02:43, 23.32s/it]"
     ]
    },
    {
     "name": "stdout",
     "output_type": "stream",
     "text": [
      "alpha = 2.5625: 0.11284892104378647\n"
     ]
    },
    {
     "name": "stderr",
     "output_type": "stream",
     "text": [
      " 88%|████████▊ | 43/49 [17:02<02:21, 23.56s/it]"
     ]
    },
    {
     "name": "stdout",
     "output_type": "stream",
     "text": [
      "alpha = 2.625: 0.11272537640512019\n"
     ]
    },
    {
     "name": "stderr",
     "output_type": "stream",
     "text": [
      " 90%|████████▉ | 44/49 [17:26<01:58, 23.77s/it]"
     ]
    },
    {
     "name": "stdout",
     "output_type": "stream",
     "text": [
      "alpha = 2.6875: 0.11339353716092643\n"
     ]
    },
    {
     "name": "stderr",
     "output_type": "stream",
     "text": [
      " 92%|█████████▏| 45/49 [17:49<01:33, 23.50s/it]"
     ]
    },
    {
     "name": "stdout",
     "output_type": "stream",
     "text": [
      "alpha = 2.75: 0.11221060004104903\n"
     ]
    },
    {
     "name": "stderr",
     "output_type": "stream",
     "text": [
      " 94%|█████████▍| 46/49 [18:13<01:11, 23.75s/it]"
     ]
    },
    {
     "name": "stdout",
     "output_type": "stream",
     "text": [
      "alpha = 2.8125: 0.11250614061369821\n"
     ]
    },
    {
     "name": "stderr",
     "output_type": "stream",
     "text": [
      " 96%|█████████▌| 47/49 [18:38<00:48, 24.22s/it]"
     ]
    },
    {
     "name": "stdout",
     "output_type": "stream",
     "text": [
      "alpha = 2.875: 0.11146171027407747\n"
     ]
    },
    {
     "name": "stderr",
     "output_type": "stream",
     "text": [
      " 98%|█████████▊| 48/49 [19:01<00:23, 23.64s/it]"
     ]
    },
    {
     "name": "stdout",
     "output_type": "stream",
     "text": [
      "alpha = 2.9375: 0.11253263114575122\n"
     ]
    },
    {
     "name": "stderr",
     "output_type": "stream",
     "text": [
      "100%|██████████| 49/49 [19:23<00:00, 23.74s/it]"
     ]
    },
    {
     "name": "stdout",
     "output_type": "stream",
     "text": [
      "alpha = 3.0: 0.11247131164153605\n"
     ]
    },
    {
     "name": "stderr",
     "output_type": "stream",
     "text": [
      "\n"
     ]
    }
   ],
   "source": [
    "from numba import njit\n",
    "from tqdm import tqdm\n",
    "from scipy.linalg import sqrtm\n",
    "\n",
    "@njit\n",
    "def softmax(x, beta=1):\n",
    "    max_x = np.array([np.max(row) for row in x])\n",
    "\n",
    "    x = x - max_x.reshape(-1,1)\n",
    "    P = np.exp(beta*x)    \n",
    "    return (P.T / np.sum(P,1)).T\n",
    "\n",
    "\n",
    "@njit\n",
    "def A(z1):\n",
    "    return softmax(np.outer(z1,z1)) + np.eye(len(z1))\n",
    "\n",
    "\n",
    "@njit\n",
    "def B(z1, z2):\n",
    "    A1 = A(z1)\n",
    "    A2 = A(A1 @ z2)\n",
    "    return A2 @ A1\n",
    "\n",
    "\n",
    "@njit\n",
    "def g(z1, z2, z3):\n",
    "    B1 = B(z1, z2) @ z3\n",
    "    return softmax(np.outer(B1, B1))\n",
    "\n",
    "\n",
    "samples = 100000\n",
    "gen_error_list = np.zeros(len(Q_11))\n",
    "\n",
    "for i in tqdm(range(len(Q_11))):\n",
    "    Q = np.array([[0, 0, 0], [0, 0, 0], [0, 0, Q_33[i]]])\n",
    "    gen_error = 0\n",
    "    for _ in range(samples):\n",
    "\n",
    "        Z = np.random.normal(0,1, (3,2))\n",
    "        U = np.random.normal(0,1, (3,2))\n",
    "\n",
    "        sqrt_Q = sqrtm(Q)\n",
    "        sqrt_one_minus_Q = sqrtm(np.eye(Q.shape[0]) - Q)\n",
    "        omega = sqrt_Q @ Z\n",
    "\n",
    "        Z_true = sqrt_Q@Z + sqrt_one_minus_Q@U\n",
    "        y_teacher = g(Z_true[0], Z_true[1], Z_true[2])\n",
    "        y_student = g(omega[0], omega[1], omega[2])\n",
    "\n",
    "        loss = np.linalg.norm(y_teacher - y_student)**2\n",
    "        gen_error += loss\n",
    "\n",
    "    gen_error_list[i] = gen_error / samples\n",
    "\n",
    "    print(f\"alpha = {alphas_read[i]}: {gen_error_list[i]}\")"
   ]
  },
  {
   "cell_type": "code",
   "execution_count": 12,
   "metadata": {},
   "outputs": [
    {
     "name": "stdout",
     "output_type": "stream",
     "text": [
      "0.0,0.5841452984069229\n",
      "0.0625,0.5840106244987391\n",
      "0.125,0.5833305157070101\n",
      "0.1875,0.5851799457682222\n",
      "0.25,0.5794285750184182\n",
      "0.3125,0.5860315865001978\n",
      "0.375,0.5854370582668691\n",
      "0.4375,0.5488822019991927\n",
      "0.5,0.47451091815640634\n",
      "0.5625,0.38075774675651775\n",
      "0.625,0.30137274190244573\n",
      "0.6875,0.2411445893582055\n",
      "0.75,0.20552106278741253\n",
      "0.8125,0.18110879807634797\n",
      "0.875,0.16365309393769106\n",
      "0.9375,0.15398749486824034\n",
      "1.0,0.14440068405413048\n",
      "1.0625,0.13874995950267413\n",
      "1.125,0.13389340602128216\n",
      "1.1875,0.1317563043301489\n",
      "1.25,0.12906308710810135\n",
      "1.3125,0.12575084139374487\n",
      "1.375,0.12323934912571877\n",
      "1.4375,0.12121165810981263\n",
      "1.5,0.12074590135326058\n",
      "1.5625,0.11696317449049205\n",
      "1.625,0.1174693109362527\n",
      "1.6875,0.11790824450203112\n",
      "1.75,0.1164068270837184\n",
      "1.8125,0.11684210555907215\n",
      "1.875,0.1156201537241975\n",
      "1.9375,0.11538462882535137\n",
      "2.0,0.11638639669674067\n",
      "2.0625,0.11410085331050623\n",
      "2.125,0.11496516691860562\n",
      "2.1875,0.11354679413501043\n",
      "2.25,0.11500764532288894\n",
      "2.3125,0.11302030542398575\n",
      "2.375,0.11180073747927649\n",
      "2.4375,0.11446839035113202\n",
      "2.5,0.11399143546466184\n",
      "2.5625,0.11284892104378647\n",
      "2.625,0.11272537640512019\n",
      "2.6875,0.11339353716092643\n",
      "2.75,0.11221060004104903\n",
      "2.8125,0.11250614061369821\n",
      "2.875,0.11146171027407747\n",
      "2.9375,0.11253263114575122\n",
      "3.0,0.11247131164153605\n"
     ]
    },
    {
     "data": {
      "text/plain": [
       "1"
      ]
     },
     "execution_count": 12,
     "metadata": {},
     "output_type": "execute_result"
    }
   ],
   "source": [
    "[print(f\"{alphas_read[i]},{gen_error_list[i]}\") for i in range(len(alphas_read))]\n",
    "\n",
    "1"
   ]
  },
  {
   "cell_type": "code",
   "execution_count": null,
   "metadata": {},
   "outputs": [],
   "source": []
  }
 ],
 "metadata": {
  "kernelspec": {
   "display_name": "Python 3",
   "language": "python",
   "name": "python3"
  },
  "language_info": {
   "codemirror_mode": {
    "name": "ipython",
    "version": 3
   },
   "file_extension": ".py",
   "mimetype": "text/x-python",
   "name": "python",
   "nbconvert_exporter": "python",
   "pygments_lexer": "ipython3",
   "version": "3.10.15"
  }
 },
 "nbformat": 4,
 "nbformat_minor": 2
}
